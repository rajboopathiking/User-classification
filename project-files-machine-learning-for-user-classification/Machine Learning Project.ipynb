{
 "cells": [
  {
   "cell_type": "markdown",
   "id": "968f6584",
   "metadata": {},
   "source": [
    "# Importing the relevant libraries"
   ]
  },
  {
   "cell_type": "code",
   "execution_count": null,
   "id": "9316a818",
   "metadata": {},
   "outputs": [],
   "source": [
    "### Python libraries\n",
    "import pandas as pd\n",
    "import numpy as np\n",
    "import matplotlib.pyplot as plt\n",
    "import seaborn as sns\n",
    "import warnings \n",
    "warnings.filterwarnings(\"ignore\")\n",
    "import statsmodels.api as sm"
   ]
  },
  {
   "cell_type": "markdown",
   "id": "df416b8a",
   "metadata": {},
   "source": [
    "### Data Preprocessing\n",
    "### Data:\n",
    "     data about 365datascience student data .It contains country,days_on_platform,mins_watched,course_started,practice_exam_passed, minutes_spent_on_exams,purchased\n",
    "\n",
    "### Goal:\n",
    "    Data is 365datascience related course . actually 365datascience.com is provide best courses. they provide few minutes of course content free. but many contents are paid . but price is affordable. so, our goal to predict will student purchase course or not"
   ]
  },
  {
   "cell_type": "markdown",
   "id": "f434aead",
   "metadata": {},
   "source": [
    "### Importing the Database"
   ]
  },
  {
   "cell_type": "code",
   "execution_count": null,
   "id": "2c620a5a",
   "metadata": {},
   "outputs": [],
   "source": [
    "df = pd.read_csv(\"ml_datasource.csv\")\n",
    "df.head()"
   ]
  },
  {
   "cell_type": "code",
   "execution_count": null,
   "id": "6f1d73f9",
   "metadata": {},
   "outputs": [],
   "source": [
    "## Dtypes, counts, variables shows by\n",
    "df.info()"
   ]
  },
  {
   "cell_type": "code",
   "execution_count": null,
   "id": "1c765cf6",
   "metadata": {},
   "outputs": [],
   "source": [
    "# describtive statistics \n",
    "df.describe(include=\"all\")"
   ]
  },
  {
   "cell_type": "code",
   "execution_count": null,
   "id": "3e743e12-a71e-498a-9f01-13f84eff0e35",
   "metadata": {},
   "outputs": [],
   "source": [
    "for i in df.columns:\n",
    "    print(df[i].value_counts())"
   ]
  },
  {
   "cell_type": "markdown",
   "id": "0e7ab2c7",
   "metadata": {},
   "source": [
    "### Removing Outliers"
   ]
  },
  {
   "cell_type": "code",
   "execution_count": null,
   "id": "e4393d7e",
   "metadata": {},
   "outputs": [],
   "source": [
    "plt.style.available"
   ]
  },
  {
   "cell_type": "code",
   "execution_count": null,
   "id": "59ac336b",
   "metadata": {},
   "outputs": [],
   "source": [
    "plt.style.use('fivethirtyeight')"
   ]
  },
  {
   "cell_type": "code",
   "execution_count": null,
   "id": "e380e5dd",
   "metadata": {},
   "outputs": [],
   "source": [
    "plt.figure(figsize=(15,7))\n",
    "df.drop(\"student_country\",axis=1).plot.box(figsize=(15,7))\n",
    "plt.title(\"Boxplot of dataFrame to detect outliers \")\n",
    "plt.xticks(rotation=45)\n",
    "plt.xlabel(\"columns\")\n",
    "plt.tight_layout()\n",
    "plt.savefig(\"Boxplot of dataFrame to detect outliers.png\")\n",
    "plt.show()"
   ]
  },
  {
   "cell_type": "code",
   "execution_count": null,
   "id": "3af8803b",
   "metadata": {},
   "outputs": [],
   "source": [
    "df[[\"minutes_watched\",\"purchased\"]].plot.box()\n",
    "plt.title(\"Boxplot of dataFrame to detect outliers \")\n",
    "plt.xticks(rotation=45)\n",
    "plt.xlabel(\"columns\")\n",
    "plt.tight_layout()\n",
    "plt.savefig(\"Boxplot of dataFrame to detect outliers(2-variables).png\")\n",
    "plt.show()"
   ]
  },
  {
   "cell_type": "code",
   "execution_count": null,
   "id": "c1be0966",
   "metadata": {},
   "outputs": [],
   "source": [
    "def outlier_removal(col):\n",
    "    q1 = df[col].quantile(.25)\n",
    "    q3 = df[col].quantile(.75)\n",
    "    iqr = q3 - q1\n",
    "    low = q1 - 1.5*iqr\n",
    "    high = q3+1.5*iqr \n",
    "    return df[(df[col]>low)&(df[col]<high)]"
   ]
  },
  {
   "cell_type": "code",
   "execution_count": null,
   "id": "df15ada1",
   "metadata": {},
   "outputs": [],
   "source": [
    "original_data = df.copy() ### copying data"
   ]
  },
  {
   "cell_type": "code",
   "execution_count": null,
   "id": "0ecb95ba",
   "metadata": {},
   "outputs": [],
   "source": [
    "df = outlier_removal(\"minutes_watched\")"
   ]
  },
  {
   "cell_type": "code",
   "execution_count": null,
   "id": "f4f9efdc",
   "metadata": {},
   "outputs": [],
   "source": [
    "df.columns"
   ]
  },
  {
   "cell_type": "code",
   "execution_count": null,
   "id": "deebb22d",
   "metadata": {},
   "outputs": [],
   "source": [
    "df.drop(\"student_country\",axis=1).plot.box(figsize=(15,7))\n",
    "plt.title(\"Boxplot of dataFrame to detect outliers \")\n",
    "plt.xticks(rotation=45)\n",
    "plt.xlabel(\"columns\")\n",
    "plt.tight_layout()"
   ]
  },
  {
   "cell_type": "markdown",
   "id": "08536d0d",
   "metadata": {},
   "source": [
    "### Checking for Multicollinearity"
   ]
  },
  {
   "cell_type": "code",
   "execution_count": null,
   "id": "3bc1e88c",
   "metadata": {},
   "outputs": [],
   "source": [
    "plt.figure(figsize=(15,7))\n",
    "sns.heatmap(df.drop(\"student_country\",axis=1).corr(),annot=True)\n",
    "plt.title(\"Correlation Map\")\n",
    "plt.tight_layout()\n",
    "plt.savefig(\"correlation Map\")\n",
    "plt.show()"
   ]
  },
  {
   "cell_type": "code",
   "execution_count": null,
   "id": "7b9c54d4",
   "metadata": {},
   "outputs": [],
   "source": [
    "df.drop(\"student_country\",axis=1).corr()"
   ]
  },
  {
   "cell_type": "markdown",
   "id": "39f1e168",
   "metadata": {},
   "source": [
    "### Dealing with NaN Values"
   ]
  },
  {
   "cell_type": "code",
   "execution_count": null,
   "id": "b21f9c2a",
   "metadata": {},
   "outputs": [],
   "source": [
    "## Data Cleaning - Remove null values \n",
    "def data_cleaning(col,var_type=\"categorical\"):\n",
    "    if var_type==\"categorical\":\n",
    "        df[col].fillna(df[col].mode()[0],inplace=True)\n",
    "    else:\n",
    "        df[col].fillna(df[col].mean(),inplace=True)\n",
    "        \n",
    "data_cleaning(\"student_country\")\n",
    "df.isnull().sum()"
   ]
  },
  {
   "cell_type": "code",
   "execution_count": null,
   "id": "dd1c9aa8",
   "metadata": {},
   "outputs": [],
   "source": [
    "if df.duplicated().sum() > 0:\n",
    "    df.drop_duplicates(inplace=True)"
   ]
  },
  {
   "cell_type": "code",
   "execution_count": null,
   "id": "3c58da65",
   "metadata": {},
   "outputs": [],
   "source": [
    "df.head()"
   ]
  },
  {
   "cell_type": "markdown",
   "id": "ced87b59",
   "metadata": {},
   "source": [
    "### Encoding the Data"
   ]
  },
  {
   "cell_type": "code",
   "execution_count": null,
   "id": "c89c5791",
   "metadata": {},
   "outputs": [],
   "source": [
    "from sklearn.preprocessing import LabelEncoder,OrdinalEncoder\n",
    "label = OrdinalEncoder()\n",
    "df[\"student_country_enc\"] = label.fit_transform(np.array(df[\"student_country\"]).reshape(-1,1))"
   ]
  },
  {
   "cell_type": "code",
   "execution_count": null,
   "id": "036754f0-0e74-4377-934e-9ba2c4b5e1db",
   "metadata": {},
   "outputs": [],
   "source": [
    "from sklearn.preprocessing import LabelEncoder,OrdinalEncoder\n",
    "label = LabelEncoder()\n",
    "df[\"student_country_new_enc\"] = label.fit_transform(df[\"student_country\"])"
   ]
  },
  {
   "cell_type": "code",
   "execution_count": null,
   "id": "61d33af6-675b-4c5c-835e-c05d815cd9ac",
   "metadata": {},
   "outputs": [],
   "source": [
    "df.head()"
   ]
  },
  {
   "cell_type": "markdown",
   "id": "81c7040a",
   "metadata": {},
   "source": [
    "### Splitting the Data"
   ]
  },
  {
   "cell_type": "code",
   "execution_count": null,
   "id": "17b8b409",
   "metadata": {},
   "outputs": [],
   "source": [
    "X = df.drop([\"purchased\",\"student_country\",\"student_country_new_enc\"],axis=1)\n",
    "y = df[\"purchased\"]"
   ]
  },
  {
   "cell_type": "code",
   "execution_count": null,
   "id": "8740b2c0",
   "metadata": {},
   "outputs": [],
   "source": [
    "from sklearn.model_selection import train_test_split\n",
    "X_train,X_test,y_train,y_test = train_test_split(X,y,test_size=.2,stratify=y)"
   ]
  },
  {
   "cell_type": "code",
   "execution_count": null,
   "id": "2a3681ca",
   "metadata": {},
   "outputs": [],
   "source": [
    "X_train"
   ]
  },
  {
   "cell_type": "code",
   "execution_count": null,
   "id": "9055434d-342b-44e1-980e-698d1440e8e7",
   "metadata": {},
   "outputs": [],
   "source": [
    "from imblearn.over_sampling import SMOTE,RandomOverSampler\n",
    "smote = SMOTE()\n",
    "X_train,y_train = smote.fit_resample(X_train,y_train)"
   ]
  },
  {
   "cell_type": "code",
   "execution_count": null,
   "id": "9de8c7b2-803e-4e6d-b6f9-d36c024d6330",
   "metadata": {},
   "outputs": [],
   "source": [
    "y_train.value_counts()"
   ]
  },
  {
   "cell_type": "code",
   "execution_count": null,
   "id": "fa8f999b-9a3a-4889-8cac-fc0663e16c83",
   "metadata": {},
   "outputs": [],
   "source": [
    "y_test.value_counts()"
   ]
  },
  {
   "cell_type": "markdown",
   "id": "50436b36",
   "metadata": {},
   "source": [
    "# Creating a Logistic Regression Model"
   ]
  },
  {
   "cell_type": "code",
   "execution_count": null,
   "id": "7e88380e",
   "metadata": {},
   "outputs": [],
   "source": [
    "from sklearn.pipeline import Pipeline\n",
    "from sklearn.linear_model import LogisticRegression\n",
    "\n",
    "pipe = Pipeline([(\"model\",LogisticRegression())])\n",
    "pipe.fit(X_train,y_train)"
   ]
  },
  {
   "cell_type": "code",
   "execution_count": null,
   "id": "d5d7d769",
   "metadata": {},
   "outputs": [],
   "source": [
    "print(pipe)"
   ]
  },
  {
   "cell_type": "code",
   "execution_count": null,
   "id": "861fcc74",
   "metadata": {},
   "outputs": [],
   "source": [
    "pipe.get_params()"
   ]
  },
  {
   "cell_type": "code",
   "execution_count": null,
   "id": "339b8ac7",
   "metadata": {},
   "outputs": [],
   "source": [
    "pipe.score(X_test,y_test)"
   ]
  },
  {
   "cell_type": "code",
   "execution_count": null,
   "id": "93f2996a",
   "metadata": {},
   "outputs": [],
   "source": [
    "pipe.score(X_train,y_train)"
   ]
  },
  {
   "cell_type": "code",
   "execution_count": null,
   "id": "586e4a17-582a-43a7-9b61-327b8021cff0",
   "metadata": {},
   "outputs": [],
   "source": [
    "### Evaluation Matrix:\n",
    "\n",
    "from sklearn.metrics import accuracy_score,classification_report,confusion_matrix,ConfusionMatrixDisplay,roc_auc_score,roc_curve,RocCurveDisplay\n",
    "def Evaluation_matrix(y_test,y_pred):\n",
    "    accuracy = accuracy_score(y_test,y_pred)\n",
    "    report = classification_report(y_test,y_pred)\n",
    "    score = roc_auc_score(y_test,y_pred)\n",
    "    print(\"AccuracyScore:\",accuracy_score(y_test,y_pred))\n",
    "    print(\"\\n classification_Report:\",classification_report(y_test,y_pred))\n",
    "    cm = confusion_matrix(y_test,y_pred)\n",
    "    print(\"AucRocScore:\",roc_auc_score(y_test,y_pred))\n",
    "    pd.DataFrame({\"accuracy\":[accuracy],\"auc_roc_score\":[score]})\n",
    "    fpr,tpr,threshold = roc_curve(y_test,y_pred)\n",
    "    curve = RocCurveDisplay(fpr=fpr,tpr=tpr,estimator_name=\"LogisticRegression\")\n",
    "    plt.figure(figsize=(15,7))\n",
    "    curve.plot(\n",
    "    )\n",
    "    plt.show(curve)\n",
    "    sns.heatmap(cm,annot=True)\n",
    "    plt.title(\"ConfusionMatrix\")\n",
    "    plt.tight_layout()\n",
    "    return plt.show()"
   ]
  },
  {
   "cell_type": "code",
   "execution_count": null,
   "id": "97a4eb7d-0244-46b5-8644-4b87a1b3fa26",
   "metadata": {},
   "outputs": [],
   "source": [
    "y_pred = pipe.predict(X_test)"
   ]
  },
  {
   "cell_type": "code",
   "execution_count": null,
   "id": "52218d45-69ce-4229-b7b8-bc9c5a2beafa",
   "metadata": {},
   "outputs": [],
   "source": [
    "y_pred"
   ]
  },
  {
   "cell_type": "code",
   "execution_count": null,
   "id": "a8894bdf-f676-4530-8663-34f05b0d38ef",
   "metadata": {},
   "outputs": [],
   "source": [
    "Evaluation_matrix(y_test,y_pred)"
   ]
  },
  {
   "cell_type": "code",
   "execution_count": null,
   "id": "5290669c-fcce-4fbb-8fde-652c7ec29089",
   "metadata": {},
   "outputs": [],
   "source": [
    "model = LogisticRegression()\n",
    "model.fit(X_train,y_train)\n",
    "model.get_params()"
   ]
  },
  {
   "cell_type": "code",
   "execution_count": null,
   "id": "48e6ece5-f456-48bb-85bb-cfe68f0ea8aa",
   "metadata": {},
   "outputs": [],
   "source": [
    "from sklearn.model_selection import cross_val_score,GridSearchCV\n",
    "\n",
    "param = {'C': [1.0,0.1],\n",
    " 'fit_intercept': [True,False],\n",
    " 'max_iter': [100,200],\n",
    " 'multi_class': ['auto'],\n",
    " 'n_jobs': [1,-1],\n",
    " 'penalty': [\"l1\",'l2'],\n",
    " 'random_state': [20,30],\n",
    " 'solver': ['lbfgs',\"linear\"]}\n",
    "\n",
    "grid = GridSearchCV(model,param,cv=5,scoring=\"accuracy\")\n",
    "grid.fit(X_train,y_train)"
   ]
  },
  {
   "cell_type": "code",
   "execution_count": null,
   "id": "5e280b60-cdfb-42ca-b79c-e6a5a07acb55",
   "metadata": {},
   "outputs": [],
   "source": [
    "grid.best_params_"
   ]
  },
  {
   "cell_type": "code",
   "execution_count": null,
   "id": "4fe13d86-b2e6-4210-b758-2e54df2a0026",
   "metadata": {},
   "outputs": [],
   "source": [
    "grid.best_score_"
   ]
  },
  {
   "cell_type": "code",
   "execution_count": null,
   "id": "81b7e8ca-bcdb-4b9e-8629-7278c1a9970c",
   "metadata": {},
   "outputs": [],
   "source": [
    "y_pred_grid_lr = grid.predict(X_test)"
   ]
  },
  {
   "cell_type": "code",
   "execution_count": null,
   "id": "8480f501-9b94-469b-84a6-0cdbf40aa7fa",
   "metadata": {},
   "outputs": [],
   "source": [
    "Evaluation_matrix(y_test,y_pred_grid_lr)"
   ]
  },
  {
   "cell_type": "code",
   "execution_count": null,
   "id": "59b8a205-56e8-4410-8178-b498868bf19f",
   "metadata": {},
   "outputs": [],
   "source": [
    "# Add a constant to the independent variables\n",
    "X = sm.add_constant(X)\n",
    "\n",
    "# Fit logistic regression model\n",
    "logit_model = sm.Logit(y, X)\n",
    "result = logit_model.fit()\n",
    "\n",
    "# Print summary including LLR p-value\n",
    "print(result.summary())\n",
    "\n",
    "# Filter only statistically significant variables\n",
    "significant_variables = result.pvalues[result.pvalues < 0.05].index\n",
    "X_significant = X[significant_variables]\n",
    "\n",
    "# Fit the final model with significant variables\n",
    "final_model = sm.Logit(y, X_significant)\n",
    "final_result = final_model.fit()\n",
    "\n",
    "# Print summary of the final model\n",
    "print(final_result.summary())\n"
   ]
  },
  {
   "cell_type": "markdown",
   "id": "9d10db71",
   "metadata": {},
   "source": [
    "# Creating a K-Nearest Neighbors Model"
   ]
  },
  {
   "cell_type": "code",
   "execution_count": null,
   "id": "2352fb3f",
   "metadata": {},
   "outputs": [],
   "source": [
    "from sklearn.neighbors import KNeighborsClassifier"
   ]
  },
  {
   "cell_type": "code",
   "execution_count": null,
   "id": "5060e94e-b348-4402-aaa8-7e92b966b2ce",
   "metadata": {},
   "outputs": [],
   "source": [
    "knn = KNeighborsClassifier()\n",
    "knn.fit(X_train,y_train)"
   ]
  },
  {
   "cell_type": "code",
   "execution_count": null,
   "id": "d6b14983-cf33-46ec-9010-87596d9691a4",
   "metadata": {},
   "outputs": [],
   "source": [
    "knn.get_params()"
   ]
  },
  {
   "cell_type": "code",
   "execution_count": null,
   "id": "531afec8-f539-4c33-9e7c-42d53f48a2ea",
   "metadata": {},
   "outputs": [],
   "source": [
    "knn.score(X_train,y_train)"
   ]
  },
  {
   "cell_type": "code",
   "execution_count": null,
   "id": "980921d7-3d6e-4093-b328-da35bdd74e8c",
   "metadata": {},
   "outputs": [],
   "source": [
    "knn.score(X_test,y_test)"
   ]
  },
  {
   "cell_type": "code",
   "execution_count": null,
   "id": "ab614839-9ee7-48eb-bf02-40f3464b1ed0",
   "metadata": {},
   "outputs": [],
   "source": [
    "y_pred = knn.predict(X_test)\n",
    "Evaluation_matrix(y_test,y_pred)"
   ]
  },
  {
   "cell_type": "code",
   "execution_count": null,
   "id": "9511cab1-2490-41dc-8cf8-02c7fd926fa0",
   "metadata": {},
   "outputs": [],
   "source": [
    "### improve it \n",
    "knn_scores = []\n",
    "for i in range(1,50):\n",
    "    knn_iter = KNeighborsClassifier(n_neighbors=i)\n",
    "    knn_iter.fit(X_train,y_train)\n",
    "    y_pred = knn_iter.predict(X_test)\n",
    "    knn_scores.append(accuracy_score(y_test,y_pred))"
   ]
  },
  {
   "cell_type": "code",
   "execution_count": null,
   "id": "473097db-29ac-4424-a99b-dfb43c179e26",
   "metadata": {},
   "outputs": [],
   "source": [
    "plt.figure(figsize=(15,7))\n",
    "plt.plot(range(1,50),knn_scores)\n",
    "plt.xlim(10,20)\n",
    "plt.title(\"Best Score Estimation\")\n",
    "plt.show()"
   ]
  },
  {
   "cell_type": "code",
   "execution_count": null,
   "id": "6ffdc1fe-b43b-4b74-bcd0-167002b6e62f",
   "metadata": {},
   "outputs": [],
   "source": [
    "knn = KNeighborsClassifier(n_neighbors=16)\n",
    "knn.fit(X_train,y_train)"
   ]
  },
  {
   "cell_type": "code",
   "execution_count": null,
   "id": "687c58fe-1456-4fa9-8319-8af4317753f9",
   "metadata": {},
   "outputs": [],
   "source": [
    "y_pred = knn.predict(X_test)\n",
    "Evaluation_matrix(y_test,y_pred)"
   ]
  },
  {
   "cell_type": "markdown",
   "id": "81aa87a4",
   "metadata": {},
   "source": [
    "# Creating a Support Vector Machines Model"
   ]
  },
  {
   "cell_type": "code",
   "execution_count": null,
   "id": "4a392bdb",
   "metadata": {},
   "outputs": [],
   "source": [
    "from sklearn.svm import SVC\n",
    "svc = SVC()\n",
    "svc.fit(X_train,y_train)"
   ]
  },
  {
   "cell_type": "code",
   "execution_count": null,
   "id": "e6c84f59-b1cc-420a-965b-b85362f2739e",
   "metadata": {},
   "outputs": [],
   "source": [
    "y_pred = svc.predict(X_test)"
   ]
  },
  {
   "cell_type": "code",
   "execution_count": null,
   "id": "df79ee33-19ef-4039-9f5b-069d41ee1610",
   "metadata": {},
   "outputs": [],
   "source": [
    "Evaluation_matrix(y_test,y_pred)"
   ]
  },
  {
   "cell_type": "code",
   "execution_count": null,
   "id": "f6dd2ab1-b8b0-4284-982a-58b6313aff61",
   "metadata": {},
   "outputs": [],
   "source": [
    "svc.get_params()"
   ]
  },
  {
   "cell_type": "code",
   "execution_count": null,
   "id": "1899c25d-7c36-4ebe-8367-be40c625eacd",
   "metadata": {},
   "outputs": [],
   "source": [
    "param = {'C': [1.0,10,100],\n",
    "\n",
    " 'gamma': ['scale','auto'],\n",
    " 'kernel': ['rbf','linear']}\n",
    "\n",
    "grid_svc = GridSearchCV(svc,param,cv=3)\n",
    "grid_svc.fit(X_train,y_train)\n",
    "grid_svc.best_estimator_\n"
   ]
  },
  {
   "cell_type": "code",
   "execution_count": null,
   "id": "f1f595f1-d235-47b2-8cea-9b986831b5bb",
   "metadata": {},
   "outputs": [],
   "source": [
    "grid_svc.best_score_"
   ]
  },
  {
   "cell_type": "code",
   "execution_count": null,
   "id": "40488803-10aa-4133-b4c9-f490f3fa9f3e",
   "metadata": {},
   "outputs": [],
   "source": [
    "y_pred = grid_svc.predict(X_test)\n",
    "Evaluation_matrix(y_test,y_pred)"
   ]
  },
  {
   "cell_type": "code",
   "execution_count": null,
   "id": "9aab5ec9-4a81-4f8a-b452-5cf81f94fcbf",
   "metadata": {},
   "outputs": [],
   "source": []
  },
  {
   "cell_type": "code",
   "execution_count": null,
   "id": "79026152-439d-4052-ac9b-0a2a65d9316c",
   "metadata": {},
   "outputs": [],
   "source": []
  },
  {
   "cell_type": "code",
   "execution_count": null,
   "id": "17af0b1c-d72a-447c-95d1-0a0744840096",
   "metadata": {},
   "outputs": [],
   "source": []
  },
  {
   "cell_type": "markdown",
   "id": "172bf1f1",
   "metadata": {},
   "source": [
    "# Creating a Decision Trees Model"
   ]
  },
  {
   "cell_type": "code",
   "execution_count": null,
   "id": "530fbc5c",
   "metadata": {},
   "outputs": [],
   "source": [
    "from sklearn.tree import DecisionTreeClassifier"
   ]
  },
  {
   "cell_type": "code",
   "execution_count": null,
   "id": "2aa4b954-d798-4c88-a28b-5e124f843abd",
   "metadata": {},
   "outputs": [],
   "source": [
    "DT = DecisionTreeClassifier()\n",
    "DT.fit(X_train,y_train)\n",
    "y_pred = DT.predict(X_test)\n",
    "Evaluation_matrix(y_test,y_pred)"
   ]
  },
  {
   "cell_type": "code",
   "execution_count": null,
   "id": "8b3486ec-a9f3-4e86-846b-463c446d0fb3",
   "metadata": {},
   "outputs": [],
   "source": [
    "print(len(X_train.columns))\n",
    "print(len(DT.feature_importances_))"
   ]
  },
  {
   "cell_type": "code",
   "execution_count": null,
   "id": "3882e391-557f-46e4-9e26-4a6d5dc4bb88",
   "metadata": {},
   "outputs": [],
   "source": [
    "plt.figure(figsize=(15,7))\n",
    "plt.bar(X_train.columns,DT.feature_importances_)\n",
    "plt.xlabel(\"Features\")\n",
    "plt.ylabel(\"Values\")\n",
    "plt.xticks(rotation=90)\n",
    "plt.title(\"Feature_Importances_\")\n",
    "plt.show()"
   ]
  },
  {
   "cell_type": "markdown",
   "id": "9b95ab9c",
   "metadata": {},
   "source": [
    "# Creating a Random Forests Model"
   ]
  },
  {
   "cell_type": "code",
   "execution_count": null,
   "id": "f5119482",
   "metadata": {},
   "outputs": [],
   "source": [
    "from sklearn.ensemble import RandomForestClassifier\n",
    "rf = RandomForestClassifier(n_estimators=200)\n",
    "rf.fit(X_train,y_train)\n",
    "y_pred = rf.predict(X_test)\n",
    "Evaluation_matrix(y_test,y_pred)"
   ]
  },
  {
   "cell_type": "code",
   "execution_count": null,
   "id": "c4e52e67-97b2-4d4a-9a7e-02bb1fce24c3",
   "metadata": {},
   "outputs": [],
   "source": [
    "rf.get_params()"
   ]
  },
  {
   "cell_type": "code",
   "execution_count": null,
   "id": "827a9c06-ef6e-4707-9876-b9f31985ebec",
   "metadata": {},
   "outputs": [],
   "source": [
    "rf = RandomForestClassifier(n_estimators=20)\n",
    "rf.fit(X_train,y_train)\n",
    "y_pred = rf.predict(X_test)\n",
    "Evaluation_matrix(y_test,y_pred)"
   ]
  },
  {
   "cell_type": "code",
   "execution_count": null,
   "id": "f0f5ec3b-b4d7-4ef7-9239-4ee2e1bdb261",
   "metadata": {},
   "outputs": [],
   "source": [
    "params = {'bootstrap': [True,False],\n",
    " 'ccp_alpha': [0.001,0.002,0.003,.004,.005],\n",
    " 'criterion': ['gini','entrophy'],\n",
    " 'n_estimators': [100,200,300,400,500],\n",
    " 'oob_score': [True,False]}\n",
    "\n",
    "grid_rf = GridSearchCV(rf,params,cv=3)\n",
    "grid_rf.fit(X_train,y_train)"
   ]
  },
  {
   "cell_type": "code",
   "execution_count": null,
   "id": "19b11283-778d-47f6-9068-37dfdbc9ac51",
   "metadata": {},
   "outputs": [],
   "source": [
    "grid_rf.best_estimator_"
   ]
  },
  {
   "cell_type": "code",
   "execution_count": null,
   "id": "1b242821-6090-4990-acc6-850df39a7bbc",
   "metadata": {},
   "outputs": [],
   "source": [
    "grid_rf.best_score_\n"
   ]
  },
  {
   "cell_type": "code",
   "execution_count": null,
   "id": "d97e1082-64b5-40e1-8aea-818f22b74ca3",
   "metadata": {},
   "outputs": [],
   "source": [
    "y_pred = grid_rf.predict(X_test)\n",
    "Evaluation_matrix(y_test,y_pred)"
   ]
  },
  {
   "cell_type": "code",
   "execution_count": null,
   "id": "8d7f643b-0022-4e25-9954-f44b4c9fefc6",
   "metadata": {},
   "outputs": [],
   "source": [
    "### Save model \n",
    "## best_model \n",
    "\n",
    "import joblib \n",
    "\n",
    "joblib.dump(grid_svc,\"365ClassificationModel\")"
   ]
  }
 ],
 "metadata": {
  "kernelspec": {
   "display_name": "Python 3 (ipykernel)",
   "language": "python",
   "name": "python3"
  },
  "language_info": {
   "codemirror_mode": {
    "name": "ipython",
    "version": 3
   },
   "file_extension": ".py",
   "mimetype": "text/x-python",
   "name": "python",
   "nbconvert_exporter": "python",
   "pygments_lexer": "ipython3",
   "version": "3.11.5"
  }
 },
 "nbformat": 4,
 "nbformat_minor": 5
}
